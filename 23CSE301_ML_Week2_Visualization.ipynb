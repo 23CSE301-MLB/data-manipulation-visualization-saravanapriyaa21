{
  "cells": [
    {
      "cell_type": "code",
      "execution_count": null,
      "metadata": {
        "id": "8Z2VoAFBxy7d"
      },
      "outputs": [],
      "source": [
        "import seaborn as sns\n",
        "import matplotlib.pyplot as plt\n",
        "\n",
        "# Load Titanic dataset\n",
        "df = sns.load_dataset('titanic')"
      ]
    },
    {
      "cell_type": "code",
      "execution_count": null,
      "metadata": {
        "id": "ORalK1eE1MfD"
      },
      "outputs": [],
      "source": [
        "df"
      ]
    },
    {
      "cell_type": "code",
      "execution_count": null,
      "metadata": {
        "id": "iGqqke5Z0nYj"
      },
      "outputs": [],
      "source": [
        "sns.histplot(df['age'], bins=20, color='red')\n",
        "plt.show()"
      ]
    },
    {
      "cell_type": "code",
      "execution_count": null,
      "metadata": {
        "id": "_1-nGQcc1HRS"
      },
      "outputs": [],
      "source": [
        "sns.histplot(data=df, x='age', hue='pclass', bins=20, palette='Set2')\n",
        "plt.show()"
      ]
    },
    {
      "cell_type": "code",
      "execution_count": null,
      "metadata": {
        "id": "guxIwlJ302j6"
      },
      "outputs": [],
      "source": [
        "import matplotlib.pyplot as plt\n",
        "\n",
        "plt.hist(df['age'], bins=20)\n",
        "plt.xlabel('Age')\n",
        "plt.ylabel('Frequency')\n",
        "plt.title('Age Distribution')\n",
        "plt.show()"
      ]
    },
    {
      "cell_type": "code",
      "execution_count": null,
      "metadata": {
        "id": "hlN0ebr82VpC"
      },
      "outputs": [],
      "source": [
        "sns.countplot(x='sex', data=df)\n",
        "plt.show()"
      ]
    },
    {
      "cell_type": "code",
      "execution_count": null,
      "metadata": {
        "id": "dewQw_B02iVb"
      },
      "outputs": [],
      "source": [
        "# Count the occurrences of each category in 'sex'\n",
        "counts = df['sex'].value_counts()\n",
        "\n",
        "# Plot using Matplotlib\n",
        "plt.bar(counts.index, counts.values, color='skyblue', edgecolor='black')\n",
        "plt.xlabel('Sex')\n",
        "plt.ylabel('Count')\n",
        "plt.title('Count of Each Sex Category')\n",
        "plt.show()"
      ]
    },
    {
      "cell_type": "code",
      "execution_count": null,
      "metadata": {
        "id": "WlQaGei73RK8"
      },
      "outputs": [],
      "source": [
        "df['class'].value_counts().plot.pie(autopct='%1.1f%%')\n",
        "plt.ylabel('')\n",
        "plt.show()"
      ]
    },
    {
      "cell_type": "code",
      "execution_count": null,
      "metadata": {
        "id": "Vdzrqyo53iel"
      },
      "outputs": [],
      "source": [
        "sns.boxplot(x='class', y='age', data=df)\n",
        "plt.show()"
      ]
    },
    {
      "cell_type": "code",
      "execution_count": null,
      "metadata": {
        "id": "4f5AvkDU3039"
      },
      "outputs": [],
      "source": [
        "sns.violinplot(x='sex', y='age', data=df)\n",
        "plt.show()"
      ]
    },
    {
      "cell_type": "code",
      "execution_count": null,
      "metadata": {
        "id": "az8EoNo04GYV"
      },
      "outputs": [],
      "source": [
        "sns.scatterplot(x='age', y='fare', hue='survived', data=df)\n",
        "plt.show()"
      ]
    },
    {
      "cell_type": "code",
      "execution_count": null,
      "metadata": {
        "id": "OxGdovCs4XY_"
      },
      "outputs": [],
      "source": [
        "sns.pairplot(df[['age', 'fare', 'survived']], hue='survived')\n",
        "plt.show()"
      ]
    },
    {
      "cell_type": "code",
      "execution_count": null,
      "metadata": {
        "id": "IbVC38XD4rZm"
      },
      "outputs": [],
      "source": [
        "numeric_df = df.select_dtypes(include=['number'])\n",
        "sns.heatmap(numeric_df.corr(), annot=True, cmap='coolwarm')\n",
        "plt.show()"
      ]
    },
    {
      "cell_type": "code",
      "execution_count": null,
      "metadata": {
        "id": "qL3TzjwA5NAG"
      },
      "outputs": [],
      "source": [
        "sns.lineplot(x='age', y='fare', data=df)\n",
        "plt.show()"
      ]
    },
    {
      "cell_type": "code",
      "execution_count": null,
      "metadata": {
        "id": "q7WGi7mM5cQn"
      },
      "outputs": [],
      "source": [
        "sns.swarmplot(x='class', y='age', data=df)\n",
        "plt.show()"
      ]
    },
    {
      "cell_type": "code",
      "execution_count": null,
      "metadata": {
        "id": "Uz9knfVw6fkf"
      },
      "outputs": [],
      "source": [
        "g = sns.FacetGrid(df, col='sex')\n",
        "g.map(sns.histplot, 'age')\n",
        "plt.show()"
      ]
    }
  ],
  "metadata": {
    "colab": {
      "provenance": []
    },
    "kernelspec": {
      "display_name": "Python 3",
      "name": "python3"
    },
    "language_info": {
      "name": "python"
    }
  },
  "nbformat": 4,
  "nbformat_minor": 0
}
